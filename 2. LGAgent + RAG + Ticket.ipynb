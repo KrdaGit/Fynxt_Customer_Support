{
 "cells": [
  {
   "cell_type": "markdown",
   "id": "034b38dc",
   "metadata": {},
   "source": [
    "#### Importing Keys and Libraries:"
   ]
  },
  {
   "cell_type": "code",
   "execution_count": 30,
   "id": "681bd858",
   "metadata": {},
   "outputs": [],
   "source": [
    "import os, getpass\n",
    "import os\n",
    "from typing import TypedDict, List, Dict, Any, Optional\n",
    "from langgraph.graph import StateGraph, END\n",
    "from langchain_core.messages import HumanMessage, AIMessage\n",
    "\n",
    "def _set_env(var: str):\n",
    "    if not os.environ.get(var):\n",
    "        os.environ[var] = getpass.getpass(f\"{var}: \")\n",
    "\n",
    "_set_env(\"GOOGLE_API_KEY\")"
   ]
  },
  {
   "cell_type": "code",
   "execution_count": 31,
   "id": "71608c4e",
   "metadata": {},
   "outputs": [],
   "source": [
    "import os\n",
    "from dotenv import load_dotenv\n",
    "from typing import List\n",
    "\n",
    "from pypdf import PdfReader\n",
    "from langchain.text_splitter import RecursiveCharacterTextSplitter, SentenceTransformersTokenTextSplitter\n",
    "import chromadb\n",
    "from chromadb.utils.embedding_functions import SentenceTransformerEmbeddingFunction\n",
    "import google.generativeai as genai\n",
    "\n",
    "# Load API key\n",
    "load_dotenv()\n",
    "genai.configure(api_key=os.getenv(\"GOOGLE_API_KEY\"))\n",
    "\n",
    "# Initialize Chroma and embedding\n",
    "embedding_function = SentenceTransformerEmbeddingFunction()\n",
    "chroma_client = chromadb.PersistentClient(path=\"./chroma_db\")\n",
    "collection_name = \"Fynxt_database\"\n",
    "\n",
    "# Check if collection exists or create new\n",
    "try:\n",
    "    chroma_collection = chroma_client.get_collection(collection_name, embedding_function=embedding_function)\n",
    "except:\n",
    "    chroma_collection = chroma_client.create_collection(collection_name, embedding_function=embedding_function)\n",
    "\n",
    "# Text wrapping utility (optional for CLI)\n",
    "def word_wrap(text, width=100):\n",
    "    import textwrap\n",
    "    return \"\\n\".join(textwrap.wrap(text, width))\n"
   ]
  },
  {
   "cell_type": "markdown",
   "id": "8fbc6a18",
   "metadata": {},
   "source": [
    "#### Setting Up Database:"
   ]
  },
  {
   "cell_type": "code",
   "execution_count": 32,
   "id": "cd58d4c3",
   "metadata": {},
   "outputs": [
    {
     "name": "stdout",
     "output_type": "stream",
     "text": [
      "✅ Knowledgebase built with 8 chunks.\n"
     ]
    }
   ],
   "source": [
    "# Build knowledgebase (run once or if PDFs are updated)\n",
    "def build_pdf_knowledgebase(pdf_paths: List[str]):\n",
    "    all_text = []\n",
    "\n",
    "    for path in pdf_paths:\n",
    "        reader = PdfReader(path)\n",
    "        text_content = [p.extract_text().strip() for p in reader.pages if p.extract_text()]\n",
    "        all_text.extend(text_content)\n",
    "\n",
    "    combined_text = '\\n\\n'.join(all_text)\n",
    "\n",
    "    # Step 1: Character-level splitting\n",
    "    character_splitter = RecursiveCharacterTextSplitter(\n",
    "        separators=[\"\\n\\n\", \"\\n\", \". \", \" \", \"\"],\n",
    "        chunk_size=2000,\n",
    "        chunk_overlap=200\n",
    "    )\n",
    "    character_chunks = character_splitter.split_text(combined_text)\n",
    "\n",
    "    # Step 2: Token-level splitting\n",
    "    token_splitter = SentenceTransformersTokenTextSplitter(tokens_per_chunk=256, chunk_overlap=20)\n",
    "    token_chunks = []\n",
    "    for text in character_chunks:\n",
    "        token_chunks += token_splitter.split_text(text)\n",
    "\n",
    "    # Filter short/empty chunks\n",
    "    token_chunks = [chunk for chunk in token_chunks if len(chunk.strip()) > 30]\n",
    "\n",
    "    # Store in ChromaDB\n",
    "    ids = [str(i) for i in range(len(token_chunks))]\n",
    "    metadatas = [{\"source\": f\"{os.path.basename(path)}_chunk_{i}\"} for i in range(len(token_chunks))]\n",
    "    chroma_collection.add(ids=ids, documents=token_chunks, metadatas=metadatas)\n",
    "\n",
    "    print(f\"✅ Knowledgebase built with {len(token_chunks)} chunks.\")\n",
    "\n",
    "# Run once to build\n",
    "build_pdf_knowledgebase([\"G:/Fyxt_CS/Docs/Final_Doc.pdf\"])"
   ]
  },
  {
   "cell_type": "markdown",
   "id": "c7d66216",
   "metadata": {},
   "source": [
    "#### Tools/Functoins:"
   ]
  },
  {
   "cell_type": "code",
   "execution_count": 33,
   "id": "a9c901ff",
   "metadata": {},
   "outputs": [],
   "source": [
    "from langchain_core.tools import tool\n",
    "import random\n",
    "\n",
    "# Query function\n",
    "@tool\n",
    "def query_pdf_knowledgebase(query: str) -> str:\n",
    "    \"\"\"\n",
    "    Answers a user's query based on pre-loaded documentation in ChromaDB.\n",
    "\n",
    "    \"\"\"\n",
    "    model = genai.GenerativeModel(\"gemini-1.5-flash-8b\")\n",
    "    results = chroma_collection.query(query_texts=[query], n_results=5)\n",
    "    retrieved_documents = results['documents'][0]\n",
    "\n",
    "    if not retrieved_documents:\n",
    "        return \"⚠️ No relevant information found.\"\n",
    "\n",
    "    context = \"\\n\\n\".join([doc.strip() for doc in retrieved_documents])\n",
    "\n",
    "    prompt = (\n",
    "        \"You are a helpful customer support assistant. Your users are asking questions about specific feature of the financial software.\"\n",
    "        \"Use only the provided content to answer accurately.\\n\\n\"\n",
    "        f\"Question: {query}\\n\\n\"\n",
    "        f\"Information:\\n{context}\"\n",
    "    )\n",
    "\n",
    "    response = model.generate_content(prompt)\n",
    "    return response.text\n",
    "\n",
    "@tool\n",
    "def generate_support_ticket(question: str) -> str:\n",
    "    \"\"\"\n",
    "    Generates a support ticket when no relevant documentation is found.\n",
    "    \"\"\"\n",
    "    ticket_id = f\"TICKET-{random.randint(1000, 9999)}\"\n",
    "    return (\n",
    "        f\"✅ Ticket created!\\n\\n\"\n",
    "        f\"📄 **Ticket ID**: {ticket_id}\\n\"\n",
    "        f\"📝 **Question**: {question}\\n\"\n",
    "        f\"A customer support rep will follow up with you soon.\"\n",
    "    )\n",
    "\n"
   ]
  },
  {
   "cell_type": "markdown",
   "id": "6dce3c4e",
   "metadata": {},
   "source": [
    "#### Model Initialization & Tool Binding:"
   ]
  },
  {
   "cell_type": "code",
   "execution_count": 34,
   "id": "971d9305",
   "metadata": {},
   "outputs": [],
   "source": [
    "import base64\n",
    "from typing import List\n",
    "from langchain.schema import HumanMessage\n",
    "from langchain_google_genai import ChatGoogleGenerativeAI\n",
    "\n",
    "llm = ChatGoogleGenerativeAI(model=\"gemini-1.5-flash-8b\")\n",
    "\n",
    "tools = [query_pdf_knowledgebase, generate_support_ticket]\n",
    "\n",
    "llm_with_tools = llm.bind_tools(tools)"
   ]
  },
  {
   "cell_type": "markdown",
   "id": "2e981beb",
   "metadata": {},
   "source": [
    "#### Agent Workflow:"
   ]
  },
  {
   "cell_type": "code",
   "execution_count": 35,
   "id": "7f204a19",
   "metadata": {},
   "outputs": [],
   "source": [
    "from typing import TypedDict, Annotated, List, Any, Optional\n",
    "from langchain_core.messages import AnyMessage, SystemMessage, HumanMessage\n",
    "from langgraph.graph.message import add_messages\n",
    "from langchain_core.utils.function_calling import convert_to_openai_tool\n",
    "\n",
    "class AgentState(TypedDict):\n",
    "    messages: Annotated[List[AnyMessage], add_messages]\n",
    "\n",
    "# AgentState\n",
    "def assistant(state: AgentState) -> AgentState:\n",
    "    messages = state[\"messages\"]\n",
    "    \n",
    "    # Optional: Add system prompt (helps steer behavior)\n",
    "    system_prompt = SystemMessage(content=(\n",
    "    \"You are a helpful customer support agent. \"\n",
    "    \"Use the knowledge base to answer the user's question. \"\n",
    "    \"If no relevant information is found, ask the user if they want to raise a ticket. \"\n",
    "    \"If they say yes, use the 'generate_support_ticket' tool with their original question.\"\n",
    "    ))\n",
    "\n",
    "    # Run LLM with tool support\n",
    "    response = llm_with_tools.invoke([system_prompt] + messages)\n",
    "\n",
    "    return {\n",
    "        \"messages\": messages + [response]\n",
    "    }\n"
   ]
  },
  {
   "cell_type": "code",
   "execution_count": 36,
   "id": "e66a234c",
   "metadata": {},
   "outputs": [
    {
     "data": {
      "image/png": "[encoded data removed]",
      "text/plain": [
       "<IPython.core.display.Image object>"
      ]
     },
     "metadata": {},
     "output_type": "display_data"
    }
   ],
   "source": [
    "from langgraph.graph import START, StateGraph\n",
    "from langgraph.prebuilt import tools_condition\n",
    "from langgraph.prebuilt import ToolNode\n",
    "from IPython.display import Image, display\n",
    "\n",
    "# Graph\n",
    "builder = StateGraph(AgentState)\n",
    "\n",
    "# Define nodes: these do the work\n",
    "builder.add_node(\"assistant\", assistant)\n",
    "builder.add_node(\"tools\", ToolNode(tools))\n",
    "\n",
    "# Define edges: these determine how the control flow moves\n",
    "builder.add_edge(START, \"assistant\")\n",
    "builder.add_conditional_edges(\n",
    "    \"assistant\",\n",
    "    # If the latest message (result) from assistant is a tool call -> tools_condition routes to tools\n",
    "    # If the latest message (result) from assistant is a not a tool call -> tools_condition routes to END\n",
    "    tools_condition,\n",
    ")\n",
    "builder.add_edge(\"tools\", \"assistant\")\n",
    "react_graph = builder.compile(name=\"CustomerSupportAgent\")\n",
    "\n",
    "# Show\n",
    "display(Image(react_graph.get_graph(xray=True).draw_mermaid_png()))"
   ]
  },
  {
   "cell_type": "markdown",
   "id": "acdbfaf2",
   "metadata": {},
   "source": [
    "#### Agentic RAG:"
   ]
  },
  {
   "cell_type": "code",
   "execution_count": 37,
   "id": "b09ae57d",
   "metadata": {},
   "outputs": [],
   "source": [
    "messages = [HumanMessage(content=\"How can I enable or disable fee structures for PAMM?\")]\n",
    "\n",
    "final_state = react_graph.invoke({\"messages\": messages})"
   ]
  },
  {
   "cell_type": "code",
   "execution_count": 38,
   "id": "aa5c43dc",
   "metadata": {},
   "outputs": [
    {
     "name": "stdout",
     "output_type": "stream",
     "text": [
      "================================\u001b[1m Human Message \u001b[0m=================================\n",
      "\n",
      "How can I enable or disable fee structures for PAMM?\n",
      "==================================\u001b[1m Ai Message \u001b[0m==================================\n",
      "Tool Calls:\n",
      "  query_pdf_knowledgebase (a74fd4c4-14cb-4b20-b363-7f586a050876)\n",
      " Call ID: a74fd4c4-14cb-4b20-b363-7f586a050876\n",
      "  Args:\n",
      "    query: How can I enable or disable fee structures for PAMM?\n",
      "=================================\u001b[1m Tool Message \u001b[0m=================================\n",
      "Name: query_pdf_knowledgebase\n",
      "\n",
      "To enable or disable fee structures for PAMM, go to Settings > Platform Configuration > Managed Accounts, select the \"Managers\" tab, and toggle the \"Fee Structure\" option.  If enabled, only the administrator can define fee structures.  If disabled, fund managers can define their own fee structures, which the administrator can then approve.\n",
      "\n",
      "==================================\u001b[1m Ai Message \u001b[0m==================================\n",
      "\n",
      "To enable or disable fee structures for PAMM, go to Settings > Platform Configuration > Managed Accounts, select the \"Managers\" tab, and toggle the \"Fee Structure\" option.  If enabled, only the administrator can define fee structures.  If disabled, fund managers can define their own fee structures, which the administrator can then approve.\n"
     ]
    }
   ],
   "source": [
    "for m in final_state['messages']:\n",
    "    m.pretty_print()\n",
    "\n",
    "if \"ticket\" in final_state:\n",
    "    print(\"\\n🎫 Ticket info:\", final_state[\"ticket\"])"
   ]
  },
  {
   "cell_type": "markdown",
   "id": "784a780e",
   "metadata": {},
   "source": [
    "#### Without Memory:"
   ]
  },
  {
   "cell_type": "code",
   "execution_count": 39,
   "id": "dbfcd288",
   "metadata": {},
   "outputs": [
    {
     "name": "stdout",
     "output_type": "stream",
     "text": [
      "================================\u001b[1m Human Message \u001b[0m=================================\n",
      "\n",
      "I want to setup account for my MT4, how to do that?\n",
      "==================================\u001b[1m Ai Message \u001b[0m==================================\n",
      "Tool Calls:\n",
      "  query_pdf_knowledgebase (3884886c-8f06-43f7-9351-a5b527098c2b)\n",
      " Call ID: 3884886c-8f06-43f7-9351-a5b527098c2b\n",
      "  Args:\n",
      "    query: How to set up an MT4 account?\n",
      "=================================\u001b[1m Tool Message \u001b[0m=================================\n",
      "Name: query_pdf_knowledgebase\n",
      "\n",
      "There is no information on how to set up an MT4 account in the provided text.\n",
      "\n",
      "==================================\u001b[1m Ai Message \u001b[0m==================================\n",
      "\n",
      "I'm sorry, I couldn't find any information about setting up an MT4 account in the available knowledge base.  Would you like to raise a support ticket?\n"
     ]
    }
   ],
   "source": [
    "messages = [HumanMessage(content=\"I want to setup account for my MT4, how to do that?\")]\n",
    "final_state = react_graph.invoke({\"messages\": messages})\n",
    "for m in final_state['messages']:\n",
    "    m.pretty_print()\n",
    "\n",
    "if \"ticket\" in final_state:\n",
    "    print(\"\\n🎫 Ticket info:\", final_state[\"ticket\"])"
   ]
  },
  {
   "cell_type": "code",
   "execution_count": 40,
   "id": "2ada8b15",
   "metadata": {},
   "outputs": [
    {
     "name": "stdout",
     "output_type": "stream",
     "text": [
      "================================\u001b[1m Human Message \u001b[0m=================================\n",
      "\n",
      "Yes please!\n",
      "==================================\u001b[1m Ai Message \u001b[0m==================================\n",
      "\n",
      "OK.  Please provide your question.\n"
     ]
    }
   ],
   "source": [
    "messages = [HumanMessage(content=\"Yes please!\")]\n",
    "final_state = react_graph.invoke({\"messages\": messages})\n",
    "for m in final_state['messages']:\n",
    "    m.pretty_print()\n",
    "\n",
    "if \"ticket\" in final_state:\n",
    "    print(\"\\n🎫 Ticket info:\", final_state[\"ticket\"])"
   ]
  },
  {
   "cell_type": "markdown",
   "id": "3baba313",
   "metadata": {},
   "source": [
    "#### With Memory:"
   ]
  },
  {
   "cell_type": "code",
   "execution_count": 41,
   "id": "9693cc79",
   "metadata": {},
   "outputs": [
    {
     "name": "stdout",
     "output_type": "stream",
     "text": [
      "================================\u001b[1m Human Message \u001b[0m=================================\n",
      "\n",
      "I want to setup account for my MT4, how to do that?\n",
      "==================================\u001b[1m Ai Message \u001b[0m==================================\n",
      "Tool Calls:\n",
      "  query_pdf_knowledgebase (b7ebc593-4592-4b8a-9b69-fb6c13ddccdc)\n",
      " Call ID: b7ebc593-4592-4b8a-9b69-fb6c13ddccdc\n",
      "  Args:\n",
      "    query: How to setup an MT4 account?\n",
      "=================================\u001b[1m Tool Message \u001b[0m=================================\n",
      "Name: query_pdf_knowledgebase\n",
      "\n",
      "The provided text does not contain instructions on how to set up an MT4 account.  There are instructions for configuring various aspects of PAMM accounts, but nothing about MT4.\n",
      "\n",
      "==================================\u001b[1m Ai Message \u001b[0m==================================\n",
      "\n",
      "I'm sorry, I couldn't find any information about setting up an MT4 account in the available documentation.  Would you like to raise a support ticket?\n"
     ]
    }
   ],
   "source": [
    "# Start conversation\n",
    "messages = [HumanMessage(content=\"I want to setup account for my MT4, how to do that?\")]\n",
    "final_state = react_graph.invoke({\"messages\": messages})\n",
    "for m in final_state['messages']:\n",
    "    m.pretty_print()\n"
   ]
  },
  {
   "cell_type": "code",
   "execution_count": null,
   "id": "17da94be",
   "metadata": {},
   "outputs": [
    {
     "name": "stdout",
     "output_type": "stream",
     "text": [
      "================================\u001b[1m Human Message \u001b[0m=================================\n",
      "\n",
      "I want to setup account for my MT4, how to do that?\n",
      "==================================\u001b[1m Ai Message \u001b[0m==================================\n",
      "Tool Calls:\n",
      "  query_pdf_knowledgebase (b7ebc593-4592-4b8a-9b69-fb6c13ddccdc)\n",
      " Call ID: b7ebc593-4592-4b8a-9b69-fb6c13ddccdc\n",
      "  Args:\n",
      "    query: How to setup an MT4 account?\n",
      "=================================\u001b[1m Tool Message \u001b[0m=================================\n",
      "Name: query_pdf_knowledgebase\n",
      "\n",
      "The provided text does not contain instructions on how to set up an MT4 account.  There are instructions for configuring various aspects of PAMM accounts, but nothing about MT4.\n",
      "\n",
      "==================================\u001b[1m Ai Message \u001b[0m==================================\n",
      "\n",
      "I'm sorry, I couldn't find any information about setting up an MT4 account in the available documentation.  Would you like to raise a support ticket?\n",
      "================================\u001b[1m Human Message \u001b[0m=================================\n",
      "\n",
      "Yes please!\n",
      "==================================\u001b[1m Ai Message \u001b[0m==================================\n",
      "Tool Calls:\n",
      "  generate_support_ticket (24171503-1ef2-4baf-8fd7-e1ade3fbff33)\n",
      " Call ID: 24171503-1ef2-4baf-8fd7-e1ade3fbff33\n",
      "  Args:\n",
      "    question: I want to setup account for my MT4, how to do that?\n",
      "=================================\u001b[1m Tool Message \u001b[0m=================================\n",
      "Name: generate_support_ticket\n",
      "\n",
      "✅ Ticket created!\n",
      "\n",
      "📄 **Ticket ID**: TICKET-8595\n",
      "📝 **Question**: I want to setup account for my MT4, how to do that?\n",
      "A customer support rep will follow up with you soon.\n",
      "==================================\u001b[1m Ai Message \u001b[0m==================================\n",
      "\n",
      "OK.  A support ticket has been created (TICKET-8595).  You will receive a follow-up from a support representative shortly.\n"
     ]
    }
   ],
   "source": [
    "# Accumulate messages\n",
    "messages = final_state[\"messages\"]\n",
    "\n",
    "# Now user says \"Yes please!\"\n",
    "messages += [HumanMessage(content=\"Yes please!\")]\n",
    "final_state = react_graph.invoke({\"messages\": messages})\n",
    "for m in final_state[\"messages\"]:\n",
    "    m.pretty_print()"
   ]
  },
  {
   "cell_type": "markdown",
   "id": "1dc9c937",
   "metadata": {},
   "source": [
    "#### Chat Interface:"
   ]
  },
  {
   "cell_type": "code",
   "execution_count": 55,
   "id": "b5a4c7fd",
   "metadata": {},
   "outputs": [
    {
     "name": "stderr",
     "output_type": "stream",
     "text": [
      "C:\\Users\\Admin\\AppData\\Local\\Temp\\ipykernel_11984\\740186185.py:25: UserWarning: You have not specified a value for the `type` parameter. Defaulting to the 'tuples' format for chatbot messages, but this is deprecated and will be removed in a future version of Gradio. Please set type='messages' instead, which uses openai-style dictionaries with 'role' and 'content' keys.\n",
      "  chatbot = gr.Chatbot()\n"
     ]
    },
    {
     "name": "stdout",
     "output_type": "stream",
     "text": [
      "* Running on local URL:  http://127.0.0.1:7861\n",
      "* Running on public URL: https://b7f9cc201eb86c7e9e.gradio.live\n",
      "\n",
      "This share link expires in 72 hours. For free permanent hosting and GPU upgrades, run `gradio deploy` from the terminal in the working directory to deploy to Hugging Face Spaces (https://huggingface.co/spaces)\n"
     ]
    },
    {
     "data": {
      "text/html": [
       "<div><iframe src=\"https://b7f9cc201eb86c7e9e.gradio.live\" width=\"100%\" height=\"500\" allow=\"autoplay; camera; microphone; clipboard-read; clipboard-write;\" frameborder=\"0\" allowfullscreen></iframe></div>"
      ],
      "text/plain": [
       "<IPython.core.display.HTML object>"
      ]
     },
     "metadata": {},
     "output_type": "display_data"
    },
    {
     "data": {
      "text/plain": []
     },
     "execution_count": 55,
     "metadata": {},
     "output_type": "execute_result"
    }
   ],
   "source": [
    "# session memory\n",
    "chat_history = []\n",
    "\n",
    "def chat_with_bot(user_input):\n",
    "    global chat_history\n",
    "\n",
    "    # Append user message\n",
    "    chat_history.append(HumanMessage(content=user_input))\n",
    "\n",
    "    # Run through LangGraph\n",
    "    final_state = react_graph.invoke({\"messages\": chat_history})\n",
    "\n",
    "    # Update memory\n",
    "    chat_history = final_state[\"messages\"]\n",
    "\n",
    "    # Extract latest assistant message\n",
    "    last_message = chat_history[-1]\n",
    "    return last_message.content\n",
    "\n",
    "import gradio as gr\n",
    "\n",
    "with gr.Blocks() as demo:\n",
    "    gr.Markdown(\"## 🤖 Fynxt Support Assistant\")\n",
    "\n",
    "    chatbot = gr.Chatbot()\n",
    "    with gr.Row():\n",
    "        msg = gr.Textbox(placeholder=\"Ask me about PAMM, MT4, fees, etc...\", show_label=False)\n",
    "        clear = gr.Button(\"Clear\")\n",
    "\n",
    "    def respond(message, history):\n",
    "        response = chat_with_bot(message)\n",
    "        history.append((message, response))\n",
    "        return \"\", history\n",
    "\n",
    "    msg.submit(respond, [msg, chatbot], [msg, chatbot])\n",
    "    clear.click(lambda: ([], []), None, [chatbot, msg])\n",
    "\n",
    "demo.launch(share=True)\n"
   ]
  },
  {
   "cell_type": "code",
   "execution_count": 56,
   "id": "c7e40a0e",
   "metadata": {},
   "outputs": [
    {
     "name": "stdout",
     "output_type": "stream",
     "text": [
      "Closing server running on port: 7861\n"
     ]
    }
   ],
   "source": [
    "demo.close()"
   ]
  }
 ],
 "metadata": {
  "kernelspec": {
   "display_name": "Python 3",
   "language": "python",
   "name": "python3"
  },
  "language_info": {
   "codemirror_mode": {
    "name": "ipython",
    "version": 3
   },
   "file_extension": ".py",
   "mimetype": "text/x-python",
   "name": "python",
   "nbconvert_exporter": "python",
   "pygments_lexer": "ipython3",
   "version": "3.10.16"
  }
 },
 "nbformat": 4,
 "nbformat_minor": 5
}
