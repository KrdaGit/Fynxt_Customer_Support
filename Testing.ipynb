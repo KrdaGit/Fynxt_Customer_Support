{
 "cells": [
  {
   "cell_type": "code",
   "execution_count": 1,
   "id": "681bd858",
   "metadata": {},
   "outputs": [],
   "source": [
    "import os, getpass\n",
    "import os\n",
    "from typing import TypedDict, List, Dict, Any, Optional\n",
    "from langgraph.graph import StateGraph, END\n",
    "from langchain_core.messages import HumanMessage, AIMessage\n",
    "\n",
    "def _set_env(var: str):\n",
    "    if not os.environ.get(var):\n",
    "        os.environ[var] = getpass.getpass(f\"{var}: \")\n",
    "\n",
    "_set_env(\"GOOGLE_API_KEY\")"
   ]
  },
  {
   "cell_type": "code",
   "execution_count": 2,
   "id": "71608c4e",
   "metadata": {},
   "outputs": [
    {
     "name": "stderr",
     "output_type": "stream",
     "text": [
      "g:\\Fyxt_CS\\venv\\lib\\site-packages\\tqdm\\auto.py:21: TqdmWarning: IProgress not found. Please update jupyter and ipywidgets. See https://ipywidgets.readthedocs.io/en/stable/user_install.html\n",
      "  from .autonotebook import tqdm as notebook_tqdm\n"
     ]
    }
   ],
   "source": [
    "import os\n",
    "from dotenv import load_dotenv\n",
    "from typing import List\n",
    "\n",
    "from pypdf import PdfReader\n",
    "from langchain.text_splitter import RecursiveCharacterTextSplitter, SentenceTransformersTokenTextSplitter\n",
    "import chromadb\n",
    "from chromadb.utils.embedding_functions import SentenceTransformerEmbeddingFunction\n",
    "import google.generativeai as genai\n",
    "\n",
    "# Load API key\n",
    "load_dotenv()\n",
    "genai.configure(api_key=os.getenv(\"GOOGLE_API_KEY\"))\n",
    "\n",
    "# Initialize Chroma and embedding\n",
    "embedding_function = SentenceTransformerEmbeddingFunction()\n",
    "chroma_client = chromadb.PersistentClient(path=\"./chroma_db\")\n",
    "collection_name = \"Fynxt_database\"\n",
    "\n",
    "# Check if collection exists or create new\n",
    "try:\n",
    "    chroma_collection = chroma_client.get_collection(collection_name, embedding_function=embedding_function)\n",
    "except:\n",
    "    chroma_collection = chroma_client.create_collection(collection_name, embedding_function=embedding_function)\n",
    "\n",
    "# Text wrapping utility (optional for CLI)\n",
    "def word_wrap(text, width=100):\n",
    "    import textwrap\n",
    "    return \"\\n\".join(textwrap.wrap(text, width))\n"
   ]
  },
  {
   "cell_type": "code",
   "execution_count": 3,
   "id": "cd58d4c3",
   "metadata": {},
   "outputs": [
    {
     "name": "stdout",
     "output_type": "stream",
     "text": [
      "✅ Knowledgebase built with 8 chunks.\n"
     ]
    }
   ],
   "source": [
    "# Build knowledgebase (run once or if PDFs are updated)\n",
    "def build_pdf_knowledgebase(pdf_paths: List[str]):\n",
    "    all_text = []\n",
    "\n",
    "    for path in pdf_paths:\n",
    "        reader = PdfReader(path)\n",
    "        text_content = [p.extract_text().strip() for p in reader.pages if p.extract_text()]\n",
    "        all_text.extend(text_content)\n",
    "\n",
    "    combined_text = '\\n\\n'.join(all_text)\n",
    "\n",
    "    # Step 1: Character-level splitting\n",
    "    character_splitter = RecursiveCharacterTextSplitter(\n",
    "        separators=[\"\\n\\n\", \"\\n\", \". \", \" \", \"\"],\n",
    "        chunk_size=2000,\n",
    "        chunk_overlap=200\n",
    "    )\n",
    "    character_chunks = character_splitter.split_text(combined_text)\n",
    "\n",
    "    # Step 2: Token-level splitting\n",
    "    token_splitter = SentenceTransformersTokenTextSplitter(tokens_per_chunk=256, chunk_overlap=20)\n",
    "    token_chunks = []\n",
    "    for text in character_chunks:\n",
    "        token_chunks += token_splitter.split_text(text)\n",
    "\n",
    "    # Filter short/empty chunks\n",
    "    token_chunks = [chunk for chunk in token_chunks if len(chunk.strip()) > 30]\n",
    "\n",
    "    # Store in ChromaDB\n",
    "    ids = [str(i) for i in range(len(token_chunks))]\n",
    "    metadatas = [{\"source\": f\"{os.path.basename(path)}_chunk_{i}\"} for i in range(len(token_chunks))]\n",
    "    chroma_collection.add(ids=ids, documents=token_chunks, metadatas=metadatas)\n",
    "\n",
    "    print(f\"✅ Knowledgebase built with {len(token_chunks)} chunks.\")\n",
    "\n",
    "# Run once to build\n",
    "build_pdf_knowledgebase([\"G:/Fyxt_CS/Docs/Final_Doc.pdf\"])"
   ]
  },
  {
   "cell_type": "code",
   "execution_count": 20,
   "id": "a9c901ff",
   "metadata": {},
   "outputs": [],
   "source": [
    "from langchain_core.tools import tool\n",
    "from langchain_core.messages import BaseMessage\n",
    "import random\n",
    "\n",
    "# Query function\n",
    "@tool\n",
    "def query_pdf_knowledgebase(query: str) -> str:\n",
    "    \"\"\"\n",
    "    Answers a user's query based on pre-loaded documentation in ChromaDB.\n",
    "    \"\"\"\n",
    "    model = genai.GenerativeModel(\"gemini-1.5-pro\")\n",
    "    results = chroma_collection.query(query_texts=[query], n_results=5)\n",
    "    retrieved_documents = results['documents'][0]\n",
    "\n",
    "    if not retrieved_documents:\n",
    "        return \"⚠️ No relevant information found.\"\n",
    "\n",
    "    context = \"\\n\\n\".join([doc.strip() for doc in retrieved_documents])\n",
    "\n",
    "    prompt = (\n",
    "        \"You are a helpful customer support assistant. Your users are asking questions about specific feature of the financial software.\"\n",
    "        \"Use only the provided content to answer accurately.\\n\\n\"\n",
    "        f\"Question: {query}\\n\\n\"\n",
    "        f\"Information:\\n{context}\"\n",
    "    )\n",
    "\n",
    "    response = model.generate_content(prompt)\n",
    "    return response.text\n",
    "\n",
    "\n",
    "# Updated ticket generation tool\n",
    "@tool\n",
    "def generate_support_ticket(chat_history: list[BaseMessage]) -> str:\n",
    "    \"\"\"\n",
    "    Generates a support ticket when no relevant documentation is found.\n",
    "    Summarizes the conversation to create the ticket.\n",
    "    \"\"\"\n",
    "    model = genai.GenerativeModel(\"gemini-1.5-pro\")\n",
    "\n",
    "    full_convo = \"\\n\".join(\n",
    "        f\"{msg.type.capitalize()}: {msg.content}\" for msg in chat_history\n",
    "    )\n",
    "\n",
    "    summary_prompt = (\n",
    "        \"You are a support assistant. Summarize the user's issue clearly and concisely \"\n",
    "        \"based on the following conversation:\\n\\n\"\n",
    "        f\"{full_convo}\\n\\n\"\n",
    "        \"Only summarize the issue (do not include greetings or confirmations).\"\n",
    "    )\n",
    "\n",
    "    summary = model.generate_content(summary_prompt).text.strip()\n",
    "\n",
    "    ticket_id = f\"TICKET-{random.randint(1000, 9999)}\"\n",
    "    return (\n",
    "        f\"✅ Ticket created!\\n\\n\"\n",
    "        f\"📄 **Ticket ID**: {ticket_id}\\n\"\n",
    "        f\"📝 **Issue**: {summary}\\n\"\n",
    "        f\"A customer support rep will follow up with you soon.\"\n",
    "    )\n"
   ]
  },
  {
   "cell_type": "code",
   "execution_count": 37,
   "id": "971d9305",
   "metadata": {},
   "outputs": [],
   "source": [
    "import base64\n",
    "from typing import List\n",
    "from langchain.schema import HumanMessage\n",
    "from langchain_google_genai import ChatGoogleGenerativeAI\n",
    "\n",
    "llm = ChatGoogleGenerativeAI(model=\"gemini-2.0-flash\")\n",
    "\n",
    "tools = [query_pdf_knowledgebase, generate_support_ticket]\n",
    "\n",
    "llm_with_tools = llm.bind_tools(tools)"
   ]
  },
  {
   "cell_type": "code",
   "execution_count": 41,
   "id": "7f204a19",
   "metadata": {},
   "outputs": [],
   "source": [
    "from typing import TypedDict, Annotated, List, Any, Optional\n",
    "from langchain_core.messages import AnyMessage, SystemMessage, HumanMessage\n",
    "from langgraph.graph.message import add_messages\n",
    "from langchain_core.utils.function_calling import convert_to_openai_tool\n",
    "from langchain.memory import ConversationBufferMemory\n",
    "\n",
    "class AgentState(TypedDict):\n",
    "    messages: Annotated[List[AnyMessage], add_messages]\n",
    "    memory: ConversationBufferMemory\n",
    "\n",
    "# AgentState\n",
    "def assistant(state: AgentState) -> AgentState:\n",
    "    messages = state[\"messages\"]\n",
    "    memory = state[\"memory\"]\n",
    "\n",
    "    # Retrieve past conversation from memory (if available)\n",
    "    history = []\n",
    "    if memory:\n",
    "        history = memory.load_memory_variables({}).get(\"chat_history\", [])\n",
    "        if isinstance(history, str):\n",
    "            history = []  # fallback if memory is still warming up\n",
    "\n",
    "    # Updated system prompt\n",
    "    system_prompt = SystemMessage(content=(\n",
    "    \"You are a helpful customer support assistant. \"\n",
    "    \"Always use the `query_pdf_knowledgebase` tool first to answer the user's question, \"\n",
    "    \"based on the product documentation. \"\n",
    "    \"If the tool returns 'No relevant information found', ask the user if they want to raise a ticket. \"\n",
    "    \"If they say yes, call the `generate_support_ticket` tool with the full chat history. \"\n",
    "    \"Never skip using the `query_pdf_knowledgebase` tool.\"\n",
    "))\n",
    "\n",
    "    full_messages = [system_prompt] + history + messages\n",
    "\n",
    "    # Run the model with tools\n",
    "    response = llm_with_tools.invoke(full_messages)\n",
    "\n",
    "    # Save to memory\n",
    "    if memory:\n",
    "        memory.save_context({\"input\": messages[-1].content}, {\"output\": response.content})\n",
    "\n",
    "    return {\n",
    "        \"messages\": messages + [response],\n",
    "        \"memory\": memory,\n",
    "    }\n"
   ]
  },
  {
   "cell_type": "code",
   "execution_count": 42,
   "id": "e66a234c",
   "metadata": {},
   "outputs": [
    {
     "data": {
      "image/png": "[encoded data removed]",
      "text/plain": [
       "<IPython.core.display.Image object>"
      ]
     },
     "metadata": {},
     "output_type": "display_data"
    }
   ],
   "source": [
    "from langgraph.graph import START, StateGraph\n",
    "from langgraph.prebuilt import tools_condition\n",
    "from langgraph.prebuilt import ToolNode\n",
    "from IPython.display import Image, display\n",
    "\n",
    "# Graph\n",
    "builder = StateGraph(AgentState)\n",
    "\n",
    "# Define nodes: these do the work\n",
    "builder.add_node(\"assistant\", assistant)\n",
    "builder.add_node(\"tools\", ToolNode(tools))\n",
    "\n",
    "# Define edges: these determine how the control flow moves\n",
    "builder.add_edge(START, \"assistant\")\n",
    "builder.add_conditional_edges(\n",
    "    \"assistant\",\n",
    "    # If the latest message (result) from assistant is a tool call -> tools_condition routes to tools\n",
    "    # If the latest message (result) from assistant is a not a tool call -> tools_condition routes to END\n",
    "    tools_condition,\n",
    ")\n",
    "builder.add_edge(\"tools\", \"assistant\")\n",
    "react_graph = builder.compile(name=\"CustomerSupportAgent\")\n",
    "\n",
    "# Show\n",
    "display(Image(react_graph.get_graph(xray=True).draw_mermaid_png()))"
   ]
  },
  {
   "cell_type": "code",
   "execution_count": 43,
   "id": "c234138c",
   "metadata": {},
   "outputs": [
    {
     "data": {
      "text/plain": [
       "'I am sorry, I cannot find the answer to your question in the documentation. Would you like me to raise a support ticket for you?'"
      ]
     },
     "execution_count": 43,
     "metadata": {},
     "output_type": "execute_result"
    }
   ],
   "source": [
    "from langchain.memory import ConversationBufferMemory\n",
    "from langchain_core.messages import messages_from_dict\n",
    "\n",
    "memory = ConversationBufferMemory(return_messages=True,memory_key=\"history\")\n",
    "\n",
    "# Initial state\n",
    "initial_state = {\n",
    "    \"messages\": [HumanMessage(content=\"How can I enable or disable fee structures for PAMM?\")],\n",
    "    \"memory\": memory,\n",
    "}\n",
    "\n",
    "final_state = react_graph.invoke(initial_state)\n",
    "final_state[\"messages\"][-1].content"
   ]
  },
  {
   "cell_type": "code",
   "execution_count": 26,
   "id": "bc6b5c27",
   "metadata": {},
   "outputs": [
    {
     "data": {
      "text/plain": [
       "{'messages': [HumanMessage(content='How can I enable or disable fee structures for PAMM?', additional_kwargs={}, response_metadata={}, id='e5b389fa-0a05-4feb-8206-0e23debe7164'),\n",
       "  AIMessage(content='', additional_kwargs={'function_call': {'name': 'query_pdf_knowledgebase', 'arguments': '{\"query\": \"enable or disable fee structures for PAMM\"}'}}, response_metadata={'prompt_feedback': {'block_reason': 0, 'safety_ratings': []}, 'finish_reason': 'STOP', 'safety_ratings': []}, id='run-81c0eddb-864d-419d-a8e4-d3cef9d32d4e-0', tool_calls=[{'name': 'query_pdf_knowledgebase', 'args': {'query': 'enable or disable fee structures for PAMM'}, 'id': '3ed03a70-89e0-4a60-a84d-cf94f5268f3a', 'type': 'tool_call'}], usage_metadata={'input_tokens': 154, 'output_tokens': 15, 'total_tokens': 169, 'input_token_details': {'cache_read': 0}}),\n",
       "  ToolMessage(content=\"Error: ResourceExhausted('You exceeded your current quota, please check your plan and billing details. For more information on this error, head to: https://ai.google.dev/gemini-api/docs/rate-limits.')\\n Please fix your mistakes.\", name='query_pdf_knowledgebase', id='34391b46-ef0d-491b-99f1-12fe88ceeeec', tool_call_id='3ed03a70-89e0-4a60-a84d-cf94f5268f3a', status='error'),\n",
       "  AIMessage(content='I am sorry, I cannot find the answer to your question in the knowledge base. Would you like me to create a support ticket for you?', additional_kwargs={}, response_metadata={'prompt_feedback': {'block_reason': 0, 'safety_ratings': []}, 'finish_reason': 'STOP', 'safety_ratings': []}, id='run-e5555b94-763e-4538-8d50-bc74f8caacf4-0', usage_metadata={'input_tokens': 231, 'output_tokens': 29, 'total_tokens': 260, 'input_token_details': {'cache_read': 0}})],\n",
       " 'memory': ConversationBufferMemory(chat_memory=InMemoryChatMessageHistory(messages=[HumanMessage(content='How can I enable or disable fee structures for PAMM?', additional_kwargs={}, response_metadata={}), AIMessage(content='', additional_kwargs={}, response_metadata={}), HumanMessage(content=\"Error: ResourceExhausted('You exceeded your current quota, please check your plan and billing details. For more information on this error, head to: https://ai.google.dev/gemini-api/docs/rate-limits.')\\n Please fix your mistakes.\", additional_kwargs={}, response_metadata={}), AIMessage(content='I am sorry, I cannot find the answer to your question in the knowledge base. Would you like me to create a support ticket for you?', additional_kwargs={}, response_metadata={})]), return_messages=True)}"
      ]
     },
     "execution_count": 26,
     "metadata": {},
     "output_type": "execute_result"
    }
   ],
   "source": [
    "final_state"
   ]
  },
  {
   "cell_type": "code",
   "execution_count": 27,
   "id": "9963bc0a",
   "metadata": {},
   "outputs": [
    {
     "data": {
      "text/plain": [
       "'I am sorry, I cannot find the answer to your question in the knowledge base. Would you like me to raise a support ticket for you?'"
      ]
     },
     "execution_count": 27,
     "metadata": {},
     "output_type": "execute_result"
    }
   ],
   "source": [
    "next_state = react_graph.invoke({\n",
    "    \"messages\": [HumanMessage(content=\"I want to setup account for my MT4, how to do that?\")],\n",
    "    \"memory\": final_state[\"memory\"],\n",
    "})\n",
    "next_state[\"messages\"][-1].content"
   ]
  },
  {
   "cell_type": "code",
   "execution_count": 28,
   "id": "92ed672a",
   "metadata": {},
   "outputs": [
    {
     "data": {
      "text/plain": [
       "{'messages': [HumanMessage(content='I want to setup account for my MT4, how to do that?', additional_kwargs={}, response_metadata={}, id='6ef45663-c5ee-40b6-97ec-242197a2928b'),\n",
       "  AIMessage(content='', additional_kwargs={'function_call': {'name': 'query_pdf_knowledgebase', 'arguments': '{\"query\": \"setup account for MT4\"}'}}, response_metadata={'prompt_feedback': {'block_reason': 0, 'safety_ratings': []}, 'finish_reason': 'STOP', 'safety_ratings': []}, id='run-54088564-e03e-4b51-a828-5e634d181e4f-0', tool_calls=[{'name': 'query_pdf_knowledgebase', 'args': {'query': 'setup account for MT4'}, 'id': 'd74afb04-89e0-499f-a63a-d14c66f1e624', 'type': 'tool_call'}], usage_metadata={'input_tokens': 157, 'output_tokens': 12, 'total_tokens': 169, 'input_token_details': {'cache_read': 0}}),\n",
       "  ToolMessage(content=\"Error: ResourceExhausted('You exceeded your current quota, please check your plan and billing details. For more information on this error, head to: https://ai.google.dev/gemini-api/docs/rate-limits.')\\n Please fix your mistakes.\", name='query_pdf_knowledgebase', id='7f51e537-df86-49ae-9af9-9d554be3ac3d', tool_call_id='d74afb04-89e0-499f-a63a-d14c66f1e624', status='error'),\n",
       "  AIMessage(content='I am sorry, I cannot find the answer to your question in the knowledge base. Would you like me to raise a support ticket for you?', additional_kwargs={}, response_metadata={'prompt_feedback': {'block_reason': 0, 'safety_ratings': []}, 'finish_reason': 'STOP', 'safety_ratings': []}, id='run-78b87340-f10b-40b9-8323-4ac3f8f82dbf-0', usage_metadata={'input_tokens': 231, 'output_tokens': 30, 'total_tokens': 261, 'input_token_details': {'cache_read': 0}})],\n",
       " 'memory': ConversationBufferMemory(chat_memory=InMemoryChatMessageHistory(messages=[HumanMessage(content='How can I enable or disable fee structures for PAMM?', additional_kwargs={}, response_metadata={}), AIMessage(content='', additional_kwargs={}, response_metadata={}), HumanMessage(content=\"Error: ResourceExhausted('You exceeded your current quota, please check your plan and billing details. For more information on this error, head to: https://ai.google.dev/gemini-api/docs/rate-limits.')\\n Please fix your mistakes.\", additional_kwargs={}, response_metadata={}), AIMessage(content='I am sorry, I cannot find the answer to your question in the knowledge base. Would you like me to create a support ticket for you?', additional_kwargs={}, response_metadata={}), HumanMessage(content='I want to setup account for my MT4, how to do that?', additional_kwargs={}, response_metadata={}), AIMessage(content='', additional_kwargs={}, response_metadata={}), HumanMessage(content=\"Error: ResourceExhausted('You exceeded your current quota, please check your plan and billing details. For more information on this error, head to: https://ai.google.dev/gemini-api/docs/rate-limits.')\\n Please fix your mistakes.\", additional_kwargs={}, response_metadata={}), AIMessage(content='I am sorry, I cannot find the answer to your question in the knowledge base. Would you like me to raise a support ticket for you?', additional_kwargs={}, response_metadata={})]), return_messages=True)}"
      ]
     },
     "execution_count": 28,
     "metadata": {},
     "output_type": "execute_result"
    }
   ],
   "source": [
    "next_state"
   ]
  },
  {
   "cell_type": "code",
   "execution_count": 29,
   "id": "2b0573fd",
   "metadata": {},
   "outputs": [
    {
     "data": {
      "text/plain": [
       "'Can you please provide the original question, so I can generate the support ticket?'"
      ]
     },
     "execution_count": 29,
     "metadata": {},
     "output_type": "execute_result"
    }
   ],
   "source": [
    "next_state = react_graph.invoke({\n",
    "    \"messages\": [HumanMessage(content=\"Yes, please generate the ticket\")],\n",
    "    \"memory\": final_state[\"memory\"],\n",
    "})\n",
    "next_state[\"messages\"][-1].content"
   ]
  },
  {
   "cell_type": "code",
   "execution_count": 30,
   "id": "1b66efa7",
   "metadata": {},
   "outputs": [
    {
     "data": {
      "text/plain": [
       "{'messages': [HumanMessage(content='Yes, please generate the ticket', additional_kwargs={}, response_metadata={}, id='e1a1bfc9-a98b-43af-8c01-ef79ef7ec3f8'),\n",
       "  AIMessage(content='Can you please provide the original question, so I can generate the support ticket?', additional_kwargs={}, response_metadata={'prompt_feedback': {'block_reason': 0, 'safety_ratings': []}, 'finish_reason': 'STOP', 'safety_ratings': []}, id='run-315492d0-8274-4ec2-82aa-1763d043e643-0', usage_metadata={'input_tokens': 148, 'output_tokens': 17, 'total_tokens': 165, 'input_token_details': {'cache_read': 0}})],\n",
       " 'memory': ConversationBufferMemory(chat_memory=InMemoryChatMessageHistory(messages=[HumanMessage(content='How can I enable or disable fee structures for PAMM?', additional_kwargs={}, response_metadata={}), AIMessage(content='', additional_kwargs={}, response_metadata={}), HumanMessage(content=\"Error: ResourceExhausted('You exceeded your current quota, please check your plan and billing details. For more information on this error, head to: https://ai.google.dev/gemini-api/docs/rate-limits.')\\n Please fix your mistakes.\", additional_kwargs={}, response_metadata={}), AIMessage(content='I am sorry, I cannot find the answer to your question in the knowledge base. Would you like me to create a support ticket for you?', additional_kwargs={}, response_metadata={}), HumanMessage(content='I want to setup account for my MT4, how to do that?', additional_kwargs={}, response_metadata={}), AIMessage(content='', additional_kwargs={}, response_metadata={}), HumanMessage(content=\"Error: ResourceExhausted('You exceeded your current quota, please check your plan and billing details. For more information on this error, head to: https://ai.google.dev/gemini-api/docs/rate-limits.')\\n Please fix your mistakes.\", additional_kwargs={}, response_metadata={}), AIMessage(content='I am sorry, I cannot find the answer to your question in the knowledge base. Would you like me to raise a support ticket for you?', additional_kwargs={}, response_metadata={}), HumanMessage(content='Yes, please generate the ticket', additional_kwargs={}, response_metadata={}), AIMessage(content='Can you please provide the original question, so I can generate the support ticket?', additional_kwargs={}, response_metadata={})]), return_messages=True)}"
      ]
     },
     "execution_count": 30,
     "metadata": {},
     "output_type": "execute_result"
    }
   ],
   "source": [
    "next_state"
   ]
  },
  {
   "cell_type": "code",
   "execution_count": 31,
   "id": "2e65f1c5",
   "metadata": {},
   "outputs": [
    {
     "data": {
      "text/plain": [
       "[HumanMessage(content='How can I enable or disable fee structures for PAMM?', additional_kwargs={}, response_metadata={}),\n",
       " AIMessage(content='', additional_kwargs={}, response_metadata={}),\n",
       " HumanMessage(content=\"Error: ResourceExhausted('You exceeded your current quota, please check your plan and billing details. For more information on this error, head to: https://ai.google.dev/gemini-api/docs/rate-limits.')\\n Please fix your mistakes.\", additional_kwargs={}, response_metadata={}),\n",
       " AIMessage(content='I am sorry, I cannot find the answer to your question in the knowledge base. Would you like me to create a support ticket for you?', additional_kwargs={}, response_metadata={}),\n",
       " HumanMessage(content='I want to setup account for my MT4, how to do that?', additional_kwargs={}, response_metadata={}),\n",
       " AIMessage(content='', additional_kwargs={}, response_metadata={}),\n",
       " HumanMessage(content=\"Error: ResourceExhausted('You exceeded your current quota, please check your plan and billing details. For more information on this error, head to: https://ai.google.dev/gemini-api/docs/rate-limits.')\\n Please fix your mistakes.\", additional_kwargs={}, response_metadata={}),\n",
       " AIMessage(content='I am sorry, I cannot find the answer to your question in the knowledge base. Would you like me to raise a support ticket for you?', additional_kwargs={}, response_metadata={}),\n",
       " HumanMessage(content='Yes, please generate the ticket', additional_kwargs={}, response_metadata={}),\n",
       " AIMessage(content='Can you please provide the original question, so I can generate the support ticket?', additional_kwargs={}, response_metadata={})]"
      ]
     },
     "execution_count": 31,
     "metadata": {},
     "output_type": "execute_result"
    }
   ],
   "source": [
    "final_state[\"memory\"].chat_memory.messages"
   ]
  },
  {
   "cell_type": "code",
   "execution_count": 32,
   "id": "304bca13",
   "metadata": {},
   "outputs": [
    {
     "data": {
      "text/plain": [
       "'Okay Krunal, how can I help you today?'"
      ]
     },
     "execution_count": 32,
     "metadata": {},
     "output_type": "execute_result"
    }
   ],
   "source": [
    "next_state = react_graph.invoke({\n",
    "    \"messages\": [HumanMessage(content=\"my name is krunal\")],\n",
    "    \"memory\": final_state[\"memory\"],\n",
    "})\n",
    "next_state[\"messages\"][-1].content"
   ]
  },
  {
   "cell_type": "code",
   "execution_count": 33,
   "id": "c2c0c5cf",
   "metadata": {},
   "outputs": [
    {
     "data": {
      "text/plain": [
       "'I am sorry, I cannot help you with that request. I can only answer questions based on the pre-loaded documentation. Would you like to raise a ticket?'"
      ]
     },
     "execution_count": 33,
     "metadata": {},
     "output_type": "execute_result"
    }
   ],
   "source": [
    "next_state = react_graph.invoke({\n",
    "    \"messages\": [HumanMessage(content=\"I live in surat\")],\n",
    "    \"memory\": final_state[\"memory\"],\n",
    "})\n",
    "next_state[\"messages\"][-1].content"
   ]
  },
  {
   "cell_type": "code",
   "execution_count": 34,
   "id": "f9996f0a",
   "metadata": {},
   "outputs": [
    {
     "data": {
      "text/plain": [
       "\"I don't have enough information to answer your question. Would you like me to create a support ticket?\""
      ]
     },
     "execution_count": 34,
     "metadata": {},
     "output_type": "execute_result"
    }
   ],
   "source": [
    "next_state = react_graph.invoke({\n",
    "    \"messages\": [HumanMessage(content=\"Im from india and its summar going on here\")],\n",
    "    \"memory\": final_state[\"memory\"],\n",
    "})\n",
    "next_state[\"messages\"][-1].content"
   ]
  },
  {
   "cell_type": "code",
   "execution_count": 35,
   "id": "4e0c90d6",
   "metadata": {},
   "outputs": [
    {
     "data": {
      "text/plain": [
       "\"I do not have access to your personal information, so I don't know your name.\""
      ]
     },
     "execution_count": 35,
     "metadata": {},
     "output_type": "execute_result"
    }
   ],
   "source": [
    "next_state = react_graph.invoke({\n",
    "    \"messages\": [HumanMessage(content=\"Do know my name?\")],\n",
    "    \"memory\": final_state[\"memory\"],\n",
    "})\n",
    "next_state[\"messages\"][-1].content"
   ]
  },
  {
   "cell_type": "code",
   "execution_count": 36,
   "id": "1371a7cd",
   "metadata": {},
   "outputs": [
    {
     "data": {
      "text/plain": [
       "[HumanMessage(content='How can I enable or disable fee structures for PAMM?', additional_kwargs={}, response_metadata={}),\n",
       " AIMessage(content='', additional_kwargs={}, response_metadata={}),\n",
       " HumanMessage(content=\"Error: ResourceExhausted('You exceeded your current quota, please check your plan and billing details. For more information on this error, head to: https://ai.google.dev/gemini-api/docs/rate-limits.')\\n Please fix your mistakes.\", additional_kwargs={}, response_metadata={}),\n",
       " AIMessage(content='I am sorry, I cannot find the answer to your question in the knowledge base. Would you like me to create a support ticket for you?', additional_kwargs={}, response_metadata={}),\n",
       " HumanMessage(content='I want to setup account for my MT4, how to do that?', additional_kwargs={}, response_metadata={}),\n",
       " AIMessage(content='', additional_kwargs={}, response_metadata={}),\n",
       " HumanMessage(content=\"Error: ResourceExhausted('You exceeded your current quota, please check your plan and billing details. For more information on this error, head to: https://ai.google.dev/gemini-api/docs/rate-limits.')\\n Please fix your mistakes.\", additional_kwargs={}, response_metadata={}),\n",
       " AIMessage(content='I am sorry, I cannot find the answer to your question in the knowledge base. Would you like me to raise a support ticket for you?', additional_kwargs={}, response_metadata={}),\n",
       " HumanMessage(content='Yes, please generate the ticket', additional_kwargs={}, response_metadata={}),\n",
       " AIMessage(content='Can you please provide the original question, so I can generate the support ticket?', additional_kwargs={}, response_metadata={}),\n",
       " HumanMessage(content='my name is krunal', additional_kwargs={}, response_metadata={}),\n",
       " AIMessage(content='Okay Krunal, how can I help you today?', additional_kwargs={}, response_metadata={}),\n",
       " HumanMessage(content='I live in surat', additional_kwargs={}, response_metadata={}),\n",
       " AIMessage(content='I am sorry, I cannot help you with that request. I can only answer questions based on the pre-loaded documentation. Would you like to raise a ticket?', additional_kwargs={}, response_metadata={}),\n",
       " HumanMessage(content='Im from india and its summar going on here', additional_kwargs={}, response_metadata={}),\n",
       " AIMessage(content=\"I don't have enough information to answer your question. Would you like me to create a support ticket?\", additional_kwargs={}, response_metadata={}),\n",
       " HumanMessage(content='Do know my name?', additional_kwargs={}, response_metadata={}),\n",
       " AIMessage(content=\"I do not have access to your personal information, so I don't know your name.\", additional_kwargs={}, response_metadata={})]"
      ]
     },
     "execution_count": 36,
     "metadata": {},
     "output_type": "execute_result"
    }
   ],
   "source": [
    "final_state[\"memory\"].chat_memory.messages"
   ]
  }
 ],
 "metadata": {
  "kernelspec": {
   "display_name": "Python 3",
   "language": "python",
   "name": "python3"
  },
  "language_info": {
   "codemirror_mode": {
    "name": "ipython",
    "version": 3
   },
   "file_extension": ".py",
   "mimetype": "text/x-python",
   "name": "python",
   "nbconvert_exporter": "python",
   "pygments_lexer": "ipython3",
   "version": "3.10.16"
  }
 },
 "nbformat": 4,
 "nbformat_minor": 5
}
